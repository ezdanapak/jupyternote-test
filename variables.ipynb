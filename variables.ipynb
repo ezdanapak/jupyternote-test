{
 "cells": [
  {
   "cell_type": "markdown",
   "id": "42a14256-91c8-446e-92a7-ab6bf11055d3",
   "metadata": {},
   "source": [
    "## Variables\n",
    "\n",
    "You can test the presented Python codes on cloud-computing platforms without any installation on your computer.\n",
    "\n",
    "[![image](https://colab.research.google.com/assets/colab-badge.svg)](https://colab.research.google.com/github/ezdanapak/jupyternote-test/blob/main/variables.ipynb)\n",
    "\n",
    "| **HCODE** |         **NAMN1**          |           **NAMA1**           |           **NAML1**            |\n",
    "|:-------:|:------------------:|:--------------------:|:---------------------:|\n",
    "|   GE-TB   |          თბილისი           |            Tbilisi            |            tbilisi             |\n",
    "|   GE-SZ   |   სამეგრელო-ზემო სვანეთი   |    Samegrelo-Zemo Svaneti     |     samegrelo-zemo svaneti     |\n",
    "|   GE-MM   |      მცხეთა-მთიანეთი       |       Mtskheta-Mtianeti       |       mtskheta-mtianeti        |\n",
    "|   GE-KA   |           კახეთი           |            Kakheti            |            k’akheti            |\n",
    "|   GE-GU   |           გურია            |             Guria             |             guria              |\n",
    "|   GE-RL   | რაჭა-ლეჩხუმი-ქვემო სვანეთი | Racha-Lechkhumi-Kvemo Svaneti | rach’a-lechkhumi-kvemo svaneti |\n",
    "|   GE-KK   |        ქვემო ქართლი        |         Kvemo Kartli          |          kvemo kartli          |\n",
    "|   GE-SJ   |      სამცხე-ჯავახეთი       |      Samtskhe-Javakheti       |       samtskhe-javakheti   \n",
    "    |\n",
    "|   GE-AJ   |           აჭარა            |            Adjara             |            ach’ara             |\n",
    "|   GE-IM   |          იმერეთი           |            Imereti            |            imereti             |\n",
    "|   GE-SK   |        შიდა ქართლი         |         Shida Kartli          |          shida kartli          |\n",
    "|   GE-AB   |          აფხაზეთი          |           Apkhazeti           |           apkhazeti            |\n"
   ]
  },
  {
   "cell_type": "markdown",
   "id": "d0f12a2e",
   "metadata": {},
   "source": [
    "ext type data - Strings¶\n",
    "Text is a sequence of letters, numbers, and punctuation marks - text_123\n",
    "\n",
    "In Python, it is possible to create text-type information in single or double quotes."
   ]
  },
  {
   "cell_type": "code",
   "execution_count": null,
   "id": "3c2f747c",
   "metadata": {},
   "outputs": [],
   "source": [
    "city = 'Chiatura'\n",
    "region = 'Imereti'\n",
    "print(city, region)\n",
    "\n",
    "#output >  Chiatura Imereti"
   ]
  },
  {
   "cell_type": "code",
   "execution_count": null,
   "id": "401aa18f",
   "metadata": {},
   "outputs": [],
   "source": [
    "print(city +' '+region)\n",
    "\n",
    "#output >  Chiatura Imereti "
   ]
  },
  {
   "cell_type": "code",
   "execution_count": null,
   "id": "1ca2ca54",
   "metadata": {},
   "outputs": [],
   "source": [
    "print(city + ',' + region)\n",
    "\n",
    "#output >   Chiatura,Imereti "
   ]
  },
  {
   "cell_type": "markdown",
   "id": "be03b8c9",
   "metadata": {},
   "source": [
    "Numeric data type - Numbers¶\n",
    "Python works with various types of numbers, the most common of which are:\n",
    "\n",
    "int , whole numbers, such as 100,\n",
    "float , also decimal, 0.5"
   ]
  },
  {
   "cell_type": "code",
   "execution_count": null,
   "id": "f89eb076",
   "metadata": {},
   "outputs": [],
   "source": [
    "population = 12049\n",
    "latitude =  42.289449\n",
    "longitude =  43.284585\n",
    "\n",
    "print(type(latitude))\n",
    "\n",
    "#output\n",
    "#42.289449, <class 'float'>"
   ]
  },
  {
   "cell_type": "code",
   "execution_count": null,
   "id": "1badc444",
   "metadata": {},
   "outputs": [],
   "source": [
    "area_sqkm = 54.5\n",
    "density = population / area_sqkm\n",
    "print(density)\n",
    "\n",
    "#output 221.08256880733944"
   ]
  }
 ],
 "metadata": {
  "kernelspec": {
   "display_name": "Python 3",
   "language": "python",
   "name": "python3"
  },
  "language_info": {
   "name": "python",
   "version": "3.13.0"
  }
 },
 "nbformat": 4,
 "nbformat_minor": 5
}
